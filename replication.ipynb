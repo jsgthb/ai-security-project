{
 "cells": [
  {
   "cell_type": "markdown",
   "metadata": {},
   "source": [
    "# Introduction\n",
    "\n",
    "This notebook attempts to replicate the results of the \"A unified framework for adverserial attack and defense in constrained feature space.\" paper by Simonetto, Thibault, et al (https://arix.org/2112.01156). All work in this notebook was done by Jeff Schaack and Yoann Le Bihan for the AI & Cybersecurity course at the University of Luxembourg."
   ]
  },
  {
   "cell_type": "markdown",
   "metadata": {},
   "source": [
    "# Setup\n",
    "\n",
    "Ensure that the conda environment has the ipykernel and jupyter packages installed and uses Python 3.8.8."
   ]
  },
  {
   "cell_type": "code",
   "execution_count": null,
   "metadata": {},
   "outputs": [],
   "source": [
    "!git clone https://github.com/serval-uni-lu/moeva2-ijcai22-replication.git ./repository"
   ]
  },
  {
   "cell_type": "code",
   "execution_count": null,
   "metadata": {},
   "outputs": [],
   "source": [
    "%pip install -r ./repository/requirements.txt\n",
    "%pip install scipy==1.4.0"
   ]
  },
  {
   "cell_type": "markdown",
   "metadata": {},
   "source": [
    "Download additional data"
   ]
  },
  {
   "cell_type": "code",
   "execution_count": null,
   "metadata": {},
   "outputs": [],
   "source": [
    "!wget https://figshare.com/ndownloader/files/42088389?private_link=84ae808ce6999fafd192 -O moeva-data.zip\n",
    "!unzip moeva-data\n",
    "!mv ./moeva-data/data ./repository/data\n",
    "!rmdir moeva-data\n",
    "!rm moeva-data.zip"
   ]
  },
  {
   "cell_type": "code",
   "execution_count": null,
   "metadata": {},
   "outputs": [],
   "source": [
    "%cd ./repository/"
   ]
  },
  {
   "cell_type": "markdown",
   "metadata": {},
   "source": [
    "# Replication"
   ]
  },
  {
   "cell_type": "code",
   "execution_count": null,
   "metadata": {},
   "outputs": [],
   "source": [
    "# Required imports\n",
    "import sys\n",
    "# Add current directory to Python path\n",
    "sys.path.append('./')\n",
    "    \n",
    "# Run RQ1 experiments\n",
    "!python -m src.run_rq1 -c ./config/rq1.lcld.yaml\n",
    "!python -m src.run_rq1 -c ./config/rq1.botnet.yaml"
   ]
  }
 ],
 "metadata": {
  "kernelspec": {
   "display_name": ".conda",
   "language": "python",
   "name": "python3"
  },
  "language_info": {
   "codemirror_mode": {
    "name": "ipython",
    "version": 3
   },
   "file_extension": ".py",
   "mimetype": "text/x-python",
   "name": "python",
   "nbconvert_exporter": "python",
   "pygments_lexer": "ipython3",
   "version": "3.8.20"
  }
 },
 "nbformat": 4,
 "nbformat_minor": 2
}
